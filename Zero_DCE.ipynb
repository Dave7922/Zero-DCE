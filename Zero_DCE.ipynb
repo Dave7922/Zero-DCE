{
 "cells": [
  {
   "cell_type": "markdown",
   "metadata": {
    "colab_type": "text",
    "id": "view-in-github"
   },
   "source": [
    "<a href=\"https://colab.research.google.com/github/talha1503/Zero-DCE/blob/main/Zero_DCE.ipynb\" target=\"_parent\"><img src=\"https://colab.research.google.com/assets/colab-badge.svg\" alt=\"Open In Colab\"/></a>"
   ]
  },
  {
   "cell_type": "code",
   "execution_count": 70,
   "metadata": {
    "colab": {
     "base_uri": "https://localhost:8080/",
     "height": 55
    },
    "id": "mXJnm1p973T_",
    "outputId": "79aabdca-895a-4e38-813e-24109121e01b"
   },
   "outputs": [
    {
     "name": "stdout",
     "output_type": "stream",
     "text": [
      "Drive already mounted at /content/drive; to attempt to forcibly remount, call drive.mount(\"/content/drive\", force_remount=True).\n"
     ]
    }
   ],
   "source": [
    "from google.colab import drive\n",
    "drive.mount('/content/drive')"
   ]
  },
  {
   "cell_type": "code",
   "execution_count": 71,
   "metadata": {
    "id": "7LXtV_kiOGmq"
   },
   "outputs": [],
   "source": [
    "import numpy as np \n",
    "import pandas as pd\n",
    "import torch\n",
    "import torch.nn as nn\n",
    "import torch.nn.functional as F\n",
    "import torchvision\n",
    "import torchvision.transforms as transforms\n",
    "import matplotlib.pyplot as plt\n",
    "import os\n",
    "from PIL import Image"
   ]
  },
  {
   "cell_type": "code",
   "execution_count": 72,
   "metadata": {
    "id": "z15vsnKnO5Hh"
   },
   "outputs": [],
   "source": [
    "device = torch.device(\"cuda\" if torch.cuda.is_available() else 'cpu')"
   ]
  },
  {
   "cell_type": "code",
   "execution_count": 73,
   "metadata": {
    "id": "eOrxEjP8XBEB"
   },
   "outputs": [],
   "source": [
    "IMG_SHAPE = (256,256)\n",
    "TRAIN_BATCH_SIZE = 8\n",
    "VALID_BATCH_SIZE = 4\n",
    "EPOCHS = 35\n",
    "LEARNING_RATE = 1e-3  \n",
    "COLOR_LOSS_WEIGHT = 5\n",
    "SMOOTHNESS_LOSS_WEIGHT = 20  \n",
    "TRAIN_VAL_SPLIT = 0.95  "
   ]
  },
  {
   "cell_type": "code",
   "execution_count": 74,
   "metadata": {
    "colab": {
     "base_uri": "https://localhost:8080/",
     "height": 71
    },
    "id": "aeUsBeQ5SnGO",
    "outputId": "c48d92cb-d192-45a0-932c-bb4f145fa36c"
   },
   "outputs": [
    {
     "name": "stdout",
     "output_type": "stream",
     "text": [
      "Total images:  2003\n",
      "Validation Data:  101\n",
      "Training Data:  1902\n"
     ]
    }
   ],
   "source": [
    "train_data_transform = transforms.Compose([transforms.Resize(IMG_SHAPE),transforms.ToTensor()])\n",
    "valid_data_transform = transforms.Compose([transforms.Resize(IMG_SHAPE),transforms.ToTensor()])\n",
    "\n",
    "data_link = '/content/drive/My Drive/train_data_Zero-DCE/train_data'\n",
    "total_image_list = os.listdir(data_link)\n",
    "\n",
    "shuffle = np.random.permutation(len(total_image_list))\n",
    "split_values = int(len(total_image_list) * TRAIN_VAL_SPLIT)\n",
    "\n",
    "print(\"Total images: \",len(total_image_list))\n",
    "print(\"Validation Data: \",len(shuffle[split_values:]))\n",
    "print(\"Training Data: \",len(shuffle[:split_values]))\n",
    "\n",
    "class TrainDataset(torch.utils.data.Dataset):\n",
    "  def __init__(self,image_shape,transforms):\n",
    "    self.image_list = np.array([total_image_list[i] for i in shuffle[:split_values]])\n",
    "    self.image_shape = image_shape \n",
    "    self.transform = transforms\n",
    "\n",
    "  def __len__(self):\n",
    "    return len(self.image_list) \n",
    "\n",
    "  def __getitem__(self,index):\n",
    "    image = self.image_list[index]\n",
    "    image = Image.open(data_link + '/' + image)\n",
    "    transformed_image = self.transform(image)\n",
    "    normalized_image = transformed_image/255\n",
    "    return normalized_image\n",
    "\n",
    "class ValidDataset(torch.utils.data.Dataset):\n",
    "  def __init__(self,image_shape,transforms):\n",
    "    self.image_list = np.array([total_image_list[i] for i in shuffle[split_values:]])\n",
    "    self.image_shape = image_shape \n",
    "    self.transform = transforms\n",
    "\n",
    "  def __len__(self):\n",
    "    return len(self.image_list) \n",
    "\n",
    "  def __getitem__(self,index):\n",
    "    image = self.image_list[index]\n",
    "    image = Image.open(data_link + '/' + image)\n",
    "    transformed_image = self.transform(image)\n",
    "    normalized_image = transformed_image/255\n",
    "    return normalized_image\n",
    "  \n",
    "train_dataset = TrainDataset(IMG_SHAPE,train_data_transform)\n",
    "train_loader = torch.utils.data.DataLoader(train_dataset,batch_size = TRAIN_BATCH_SIZE,shuffle=True)\n",
    "valid_dataset = ValidDataset(IMG_SHAPE,valid_data_transform)\n",
    "valid_loader = torch.utils.data.DataLoader(valid_dataset,batch_size = VALID_BATCH_SIZE,shuffle=True)"
   ]
  },
  {
   "cell_type": "code",
   "execution_count": 75,
   "metadata": {
    "id": "i8eCFCfUUYLm"
   },
   "outputs": [],
   "source": [
    "class DCENet(nn.Module):\n",
    "  def __init__(self):  # Input ->  256x256x3\n",
    "    super(DCENet, self).__init__()\n",
    "    self.conv1 = nn.Conv2d(in_channels = 3 , out_channels = 32, kernel_size = 3, stride = 1, padding = 1,bias = True)\n",
    "    self.conv2 = nn.Conv2d(in_channels = 32 , out_channels = 32, kernel_size = 3, stride = 1, padding = 1,bias = True)\n",
    "    self.conv3 = nn.Conv2d(in_channels = 32 , out_channels = 32, kernel_size = 3, stride = 1, padding = 1,bias = True)\n",
    "    self.conv4 = nn.Conv2d(in_channels = 32 , out_channels = 32, kernel_size = 3, stride = 1, padding = 1,bias = True) \n",
    "    self.conv5 = nn.Conv2d(in_channels = 64 , out_channels = 32, kernel_size = 3, stride = 1, padding = 1,bias = True)\n",
    "    self.conv6 = nn.Conv2d(in_channels = 64 , out_channels = 32, kernel_size = 3, stride = 1, padding = 1,bias = True)\n",
    "    self.conv7 = nn.Conv2d(in_channels = 64 , out_channels = 24, kernel_size = 3, stride = 1, padding = 1,bias = True)\n",
    "    \n",
    "\n",
    "  def forward(self,input):\n",
    "    output1 = F.relu(self.conv1(input))\n",
    "    output2 = F.relu(self.conv2(output1))  \n",
    "    output3 = F.relu(self.conv3(output2))\n",
    "    output4 = F.relu(self.conv4(output3))\n",
    "    output5 = F.relu(self.conv5(torch.cat([output3,output4],1)))   \n",
    "    output6 = F.relu(self.conv6(torch.cat([output2,output5],1)))   \n",
    "    output7 = F.tanh(self.conv7(torch.cat([output1,output6],1)))  # Output here is 256x256x24.   \n",
    "\n",
    "    LE_curves = list(torch.split(output7,3,dim=1))  \n",
    "    for i in range(8):\n",
    "        input = input + LE_curves[i]*(torch.pow(input,2)-input)\n",
    "\n",
    "    LE_curves = torch.cat(LE_curves,1)\n",
    "\n",
    "    return input,LE_curves"
   ]
  },
  {
   "cell_type": "code",
   "execution_count": 76,
   "metadata": {
    "id": "X6NMXNjnUfMP"
   },
   "outputs": [],
   "source": [
    "class SpatialConsistencyLoss(nn.Module):\n",
    "  def __init__(self):\n",
    "    super(SpatialConsistencyLoss, self).__init__()\n",
    "    self.left_kernel = torch.FloatTensor([[0,0,0],[-1,1,0],[0,0,0]]).unsqueeze(0).unsqueeze(0)\n",
    "    self.top_kernel = torch.FloatTensor([[0,-1,0],[0,1,0],[0,0,0]]).unsqueeze(0).unsqueeze(0)\n",
    "    self.right_kernel = torch.FloatTensor([[0,0,0],[0,1,-1],[0,0,0]]).unsqueeze(0).unsqueeze(0)\n",
    "    self.bottom_kernel = torch.FloatTensor([[0,0,0],[0,1,0],[0,-1,0]]).unsqueeze(0).unsqueeze(0) \n",
    "    self.left_kernel = self.left_kernel.to(device)\n",
    "    self.top_kernel = self.top_kernel.to(device)\n",
    "    self.right_kernel = self.right_kernel.to(device)\n",
    "    self.bottom_kernel = self.bottom_kernel.to(device)\n",
    "\n",
    "  def forward(self,input_image,enhanced_image):\n",
    "    mean_input = torch.mean(input_image,dim=1,keepdims=True)\n",
    "    mean_enhanced = torch.mean(enhanced_image,dim=1,keepdims=True)    \n",
    "    pool_input = F.avg_pool2d(input = mean_input,kernel_size = 4)\n",
    "    pool_enhanced = F.avg_pool2d(input = mean_enhanced, kernel_size = 4)\n",
    "    left_input = F.conv2d(pool_input,self.left_kernel,padding = 1)\n",
    "    right_input = F.conv2d(pool_input,self.right_kernel,padding = 1)\n",
    "    top_input = F.conv2d(pool_input,self.top_kernel,padding = 1)\n",
    "    bottom_input = F.conv2d(pool_input,self.bottom_kernel,padding = 1)\n",
    "    left_enhanced = F.conv2d(pool_enhanced,self.left_kernel,padding = 1)\n",
    "    right_enhanced = F.conv2d(pool_enhanced,self.right_kernel,padding = 1)\n",
    "    top_enhanced = F.conv2d(pool_enhanced,self.top_kernel,padding = 1)\n",
    "    bottom_enhanced = F.conv2d(pool_enhanced,self.bottom_kernel,padding = 1)\n",
    "    return torch.mean(torch.pow(left_enhanced-left_input,2) + torch.pow(right_enhanced-right_input,2) + torch.pow(top_enhanced-top_input,2) + torch.pow(bottom_enhanced-bottom_input,2))\n",
    "\n",
    "class ExposureControlLoss(nn.Module):\n",
    "  def __init__(self,E=0.6):\n",
    "    super(ExposureControlLoss,self).__init__() \n",
    "    self.E = E\n",
    "\n",
    "  def forward(self,enhanced_image):\n",
    "    enhanced_image = torch.mean(enhanced_image,1,keepdims=True)\n",
    "    val = F.avg_pool2d(enhanced_image,kernel_size = 16,stride = 16)  \n",
    "    # E_matrix  = self.E*torch.ones(val.shape,device = device) # My equation\n",
    "    return torch.mean(torch.pow(val - torch.FloatTensor([self.E]).to(device),2))   # Author's equation.\n",
    "\n",
    "class ColorConstancyLoss(nn.Module):\n",
    "  def __init__(self,colour_weight = COLOR_LOSS_WEIGHT):\n",
    "    super(ColorConstancyLoss,self).__init__()\n",
    "    self.colour_weight = colour_weight\n",
    "\n",
    "  def forward(self,enhanced_image): \n",
    "    mean_enhanced = torch.mean(enhanced_image,[2,3],keepdims=True)\n",
    "    splits = torch.split(mean_enhanced,1,dim=1)\n",
    "    R = splits[0]\n",
    "    G = splits[1]\n",
    "    B = splits[2]\n",
    "    # total = torch.pow(R-G,2) + torch.pow(B-G,2) + torch.pow(B-R,2) # My equation\n",
    "    total = torch.pow(torch.pow(torch.pow(R-G,2),2) + torch.pow(torch.pow(R-B,2),2) + torch.pow(torch.pow(B-G,2),2),0.5) # Author's implementation varies from the paper.\n",
    "    return self.colour_weight*torch.mean(total) \n",
    "\n",
    "\n",
    "class IlluminationSmoothnessLoss(nn.Module):\n",
    "  def __init__(self,smoothness = SMOOTHNESS_LOSS_WEIGHT,):\n",
    "    super(IlluminationSmoothnessLoss,self).__init__()\n",
    "#     self.smoothness = smoothness\n",
    "\n",
    "  def forward(self,curves):\n",
    "    horizontal_gradients = torch.pow(curves[:,:,1:,:] - curves[:,:,:curves.shape[2]-1,:],2).sum() \n",
    "    vertical_gradients = torch.pow(curves[:,:,:,1:] - curves[:,:,:,:curves.shape[3]-1],2).sum()\n",
    "    # total = (vertical_gradients + horizontal_gradients)/8   # My equation\n",
    "    total = 2*(vertical_gradients/ (curves.shape[2] * (curves.shape[3] - 1)) + (horizontal_gradients/(curves.shape[2]-1) * curves.shape[3]))/curves.shape[0]\n",
    "    return total\n"
   ]
  },
  {
   "cell_type": "code",
   "execution_count": 77,
   "metadata": {
    "id": "jJuR7DAu8alU"
   },
   "outputs": [],
   "source": [
    "model = DCENet()\n",
    "model = model.to(device)\n",
    "optimizer = torch.optim.SGD(model.parameters(),lr=LEARNING_RATE)"
   ]
  },
  {
   "cell_type": "code",
   "execution_count": 78,
   "metadata": {
    "id": "zWa5435aVHGk"
   },
   "outputs": [],
   "source": [
    "def train(train_iterator,valid_iterator,epochs,model,optimizer): \n",
    "  spatial_loss = SpatialConsistencyLoss()\n",
    "  exposure_loss = ExposureControlLoss()\n",
    "  colour_loss = ColorConstancyLoss()\n",
    "  illumination_loss = IlluminationSmoothnessLoss()\n",
    "\n",
    "  train_loss_list = []\n",
    "  valid_loss_list = []\n",
    "\n",
    "  for epoch in range(epochs):\n",
    "    train_epoch_loss = 0\n",
    "    val_epoch_loss = 0\n",
    "    for train_iteration,image in enumerate(train_iterator):\n",
    "      model.train()\n",
    "      optimizer.zero_grad()\n",
    "      image = image.to(device)\n",
    "      output,curves = model(image)\n",
    "      \n",
    "      loss = spatial_loss(image,output)  + 10*exposure_loss(output)  + colour_loss(output) + illumination_loss(curves)\n",
    "      loss.backward()\n",
    "      optimizer.step()\n",
    "      train_epoch_loss += loss.item()\n",
    "\n",
    "    for val_iteration,image in enumerate(valid_iterator):\n",
    "      model.eval()\n",
    "      image = image.to(device)\n",
    "      output,curves = model(image)\n",
    "      val_loss = spatial_loss(image,output) + 10*exposure_loss(output) + colour_loss(output) + 200*illumination_loss(curves)\n",
    "      val_epoch_loss += val_loss.item() \n",
    "\n",
    "    train_loss_list.append(train_epoch_loss)\n",
    "    valid_loss_list.append(val_epoch_loss)\n",
    "    print(\"-\"*50)\n",
    "    print(\"Train Loss at epoch:{} is {} \".format(epoch,train_epoch_loss/len(train_iterator)))\n",
    "    print(\"Valid Loss at epoch:{} is {} \".format(epoch,val_epoch_loss/len(valid_iterator)))\n",
    "    print(\"-\"*50)\n",
    "  \n",
    "\n",
    "  return model,train_loss_list,valid_loss_list"
   ]
  },
  {
   "cell_type": "code",
   "execution_count": 79,
   "metadata": {
    "colab": {
     "base_uri": "https://localhost:8080/",
     "height": 1000
    },
    "id": "Lg5JXfBr-J4F",
    "outputId": "4236c411-af64-4f96-b987-ef0fb17dacc7"
   },
   "outputs": [
    {
     "name": "stderr",
     "output_type": "stream",
     "text": [
      "/usr/local/lib/python3.6/dist-packages/torch/nn/functional.py:1614: UserWarning: nn.functional.tanh is deprecated. Use torch.tanh instead.\n",
      "  warnings.warn(\"nn.functional.tanh is deprecated. Use torch.tanh instead.\")\n"
     ]
    },
    {
     "name": "stdout",
     "output_type": "stream",
     "text": [
      "--------------------------------------------------\n",
      "Train Loss at epoch:0 is 3.643341083486541 \n",
      "Valid Loss at epoch:0 is 3.585906505584717 \n",
      "--------------------------------------------------\n",
      "--------------------------------------------------\n",
      "Train Loss at epoch:1 is 3.5913184049750577 \n",
      "Valid Loss at epoch:1 is 3.5923867225646973 \n",
      "--------------------------------------------------\n",
      "--------------------------------------------------\n",
      "Train Loss at epoch:2 is 3.5882208617795417 \n",
      "Valid Loss at epoch:2 is 3.5917270183563232 \n",
      "--------------------------------------------------\n",
      "--------------------------------------------------\n",
      "Train Loss at epoch:3 is 3.5862167352387884 \n",
      "Valid Loss at epoch:3 is 3.5856595039367676 \n",
      "--------------------------------------------------\n",
      "--------------------------------------------------\n",
      "Train Loss at epoch:4 is 3.5847244673416396 \n",
      "Valid Loss at epoch:4 is 3.586408853530884 \n",
      "--------------------------------------------------\n",
      "--------------------------------------------------\n",
      "Train Loss at epoch:5 is 3.5835198915305257 \n",
      "Valid Loss at epoch:5 is 3.5892088413238525 \n",
      "--------------------------------------------------\n",
      "--------------------------------------------------\n",
      "Train Loss at epoch:6 is 3.5824742287146947 \n",
      "Valid Loss at epoch:6 is 3.5742509365081787 \n",
      "--------------------------------------------------\n",
      "--------------------------------------------------\n",
      "Train Loss at epoch:7 is 3.5815564804718276 \n",
      "Valid Loss at epoch:7 is 3.5658719539642334 \n",
      "--------------------------------------------------\n",
      "--------------------------------------------------\n",
      "Train Loss at epoch:8 is 3.580728652096596 \n",
      "Valid Loss at epoch:8 is 3.5792651176452637 \n",
      "--------------------------------------------------\n",
      "--------------------------------------------------\n",
      "Train Loss at epoch:9 is 3.5799618939391706 \n",
      "Valid Loss at epoch:9 is 3.581206798553467 \n",
      "--------------------------------------------------\n",
      "--------------------------------------------------\n",
      "Train Loss at epoch:10 is 3.5792221441990186 \n",
      "Valid Loss at epoch:10 is 3.570855140686035 \n",
      "--------------------------------------------------\n",
      "--------------------------------------------------\n",
      "Train Loss at epoch:11 is 3.578534729340497 \n",
      "Valid Loss at epoch:11 is 3.5800418853759766 \n",
      "--------------------------------------------------\n",
      "--------------------------------------------------\n",
      "Train Loss at epoch:12 is 3.5778425721561207 \n",
      "Valid Loss at epoch:12 is 3.5728397369384766 \n",
      "--------------------------------------------------\n",
      "--------------------------------------------------\n",
      "Train Loss at epoch:13 is 3.5771590912041544 \n",
      "Valid Loss at epoch:13 is 3.563950777053833 \n",
      "--------------------------------------------------\n",
      "--------------------------------------------------\n",
      "Train Loss at epoch:14 is 3.576487766594446 \n",
      "Valid Loss at epoch:14 is 3.5648210048675537 \n",
      "--------------------------------------------------\n",
      "--------------------------------------------------\n",
      "Train Loss at epoch:15 is 3.575825332593517 \n",
      "Valid Loss at epoch:15 is 3.5746617317199707 \n",
      "--------------------------------------------------\n",
      "--------------------------------------------------\n",
      "Train Loss at epoch:16 is 3.575157577250184 \n",
      "Valid Loss at epoch:16 is 3.5844080448150635 \n",
      "--------------------------------------------------\n",
      "--------------------------------------------------\n",
      "Train Loss at epoch:17 is 3.5744630248606706 \n",
      "Valid Loss at epoch:17 is 3.5742228031158447 \n",
      "--------------------------------------------------\n",
      "--------------------------------------------------\n",
      "Train Loss at epoch:18 is 3.573759083988286 \n",
      "Valid Loss at epoch:18 is 3.5709328651428223 \n",
      "--------------------------------------------------\n",
      "--------------------------------------------------\n",
      "Train Loss at epoch:19 is 3.573048055672846 \n",
      "Valid Loss at epoch:19 is 3.57619047164917 \n",
      "--------------------------------------------------\n",
      "--------------------------------------------------\n",
      "Train Loss at epoch:20 is 3.572320715719912 \n",
      "Valid Loss at epoch:20 is 3.5826542377471924 \n",
      "--------------------------------------------------\n",
      "--------------------------------------------------\n",
      "Train Loss at epoch:21 is 3.571555655543544 \n",
      "Valid Loss at epoch:21 is 3.5751428604125977 \n",
      "--------------------------------------------------\n",
      "--------------------------------------------------\n",
      "Train Loss at epoch:22 is 3.570762008178134 \n",
      "Valid Loss at epoch:22 is 3.5649609565734863 \n",
      "--------------------------------------------------\n",
      "--------------------------------------------------\n",
      "Train Loss at epoch:23 is 3.5699570128897657 \n",
      "Valid Loss at epoch:23 is 3.5696053504943848 \n",
      "--------------------------------------------------\n",
      "--------------------------------------------------\n",
      "Train Loss at epoch:24 is 3.5690976511530517 \n",
      "Valid Loss at epoch:24 is 3.552560567855835 \n",
      "--------------------------------------------------\n",
      "--------------------------------------------------\n",
      "Train Loss at epoch:25 is 3.5682493197817764 \n",
      "Valid Loss at epoch:25 is 3.582019329071045 \n",
      "--------------------------------------------------\n",
      "--------------------------------------------------\n",
      "Train Loss at epoch:26 is 3.5673166012563624 \n",
      "Valid Loss at epoch:26 is 3.565725803375244 \n",
      "--------------------------------------------------\n",
      "--------------------------------------------------\n",
      "Train Loss at epoch:27 is 3.566350995993414 \n",
      "Valid Loss at epoch:27 is 3.5623974800109863 \n",
      "--------------------------------------------------\n",
      "--------------------------------------------------\n",
      "Train Loss at epoch:29 is 3.564273924386802 \n",
      "Valid Loss at epoch:29 is 3.5544660091400146 \n",
      "--------------------------------------------------\n",
      "--------------------------------------------------\n",
      "Train Loss at epoch:30 is 3.5631581805333368 \n",
      "Valid Loss at epoch:30 is 3.558523654937744 \n",
      "--------------------------------------------------\n",
      "--------------------------------------------------\n",
      "Train Loss at epoch:31 is 3.5619968416310157 \n",
      "Valid Loss at epoch:31 is 3.5787439346313477 \n",
      "--------------------------------------------------\n",
      "--------------------------------------------------\n",
      "Train Loss at epoch:32 is 3.5607361122339714 \n",
      "Valid Loss at epoch:32 is 3.5755369663238525 \n",
      "--------------------------------------------------\n",
      "--------------------------------------------------\n",
      "Train Loss at epoch:33 is 3.5593819427890936 \n",
      "Valid Loss at epoch:33 is 3.5604095458984375 \n",
      "--------------------------------------------------\n",
      "--------------------------------------------------\n",
      "Train Loss at epoch:34 is 3.5579476035943554 \n",
      "Valid Loss at epoch:34 is 3.557718276977539 \n",
      "--------------------------------------------------\n"
     ]
    }
   ],
   "source": [
    "model,train_loss_list,valid_loss_list = train(train_loader,valid_loader,EPOCHS,model,optimizer)\n",
    "torch.save(model,'/content/drive/My Drive/Zero-DCEModels/model_15.pth')"
   ]
  },
  {
   "cell_type": "code",
   "execution_count": 80,
   "metadata": {
    "id": "bxAHECyZVIPe"
   },
   "outputs": [],
   "source": [
    "def plot_list(loss_list):\n",
    "  plt.plot(loss_list)\n",
    "  plt.show()"
   ]
  },
  {
   "cell_type": "code",
   "execution_count": 81,
   "metadata": {
    "colab": {
     "base_uri": "https://localhost:8080/",
     "height": 265
    },
    "id": "MrDLisIsFYMB",
    "outputId": "9d91bdc7-1305-4c13-be77-81e4d6d5ddd2"
   },
   "outputs": [
    {
     "data": {
      "image/png": "[encoded data removed]",
      "text/plain": [
       "<Figure size 432x288 with 1 Axes>"
      ]
     },
     "metadata": {
      "needs_background": "light",
      "tags": []
     },
     "output_type": "display_data"
    }
   ],
   "source": [
    "plot_list(train_loss_list)"
   ]
  },
  {
   "cell_type": "code",
   "execution_count": 82,
   "metadata": {
    "colab": {
     "base_uri": "https://localhost:8080/",
     "height": 265
    },
    "id": "7tUtCCPMFbxF",
    "outputId": "6c3f26e7-2e81-47c3-94a8-e2f97cb00ca7"
   },
   "outputs": [
    {
     "data": {
      "image/png": "[encoded data removed]",
      "text/plain": [
       "<Figure size 432x288 with 1 Axes>"
      ]
     },
     "metadata": {
      "needs_background": "light",
      "tags": []
     },
     "output_type": "display_data"
    }
   ],
   "source": [
    "plot_list(valid_loss_list)"
   ]
  },
  {
   "cell_type": "code",
   "execution_count": 83,
   "metadata": {
    "colab": {
     "base_uri": "https://localhost:8080/",
     "height": 73
    },
    "id": "dx7rWOzoiIam",
    "outputId": "978527e7-3b32-4298-d2dc-c69d52f33da5"
   },
   "outputs": [
    {
     "name": "stderr",
     "output_type": "stream",
     "text": [
      "/usr/local/lib/python3.6/dist-packages/torch/nn/functional.py:1614: UserWarning: nn.functional.tanh is deprecated. Use torch.tanh instead.\n",
      "  warnings.warn(\"nn.functional.tanh is deprecated. Use torch.tanh instead.\")\n"
     ]
    }
   ],
   "source": [
    "test_data_transform = transforms.Compose([transforms.Resize(IMG_SHAPE),transforms.ToTensor()])\n",
    "save_directory = '/content/drive/My Drive/ZeroDCEResult/'\n",
    "\n",
    "class TestDataset(torch.utils.data.Dataset):\n",
    "  def __init__(self,image_shape,transforms,image_path, image_directory):\n",
    "    self.image_list = [image_path]\n",
    "    self.image_shape = image_shape \n",
    "    self.transform = transforms\n",
    "    self.image_directory = image_directory\n",
    "\n",
    "  def __len__(self):\n",
    "    return len(self.image_list) \n",
    "\n",
    "  def __getitem__(self,index):\n",
    "    image = self.image_list[index]\n",
    "    image = Image.open(self.image_directory + '/' + image)\n",
    "    transformed_image = self.transform(image)\n",
    "    normalized_image = transformed_image/255\n",
    "    return normalized_image\n",
    "\n",
    "def eval(image_name,image_directory,model_path):\n",
    "  test_dataset = TestDataset(IMG_SHAPE,test_data_transform,image_name, image_directory)\n",
    "  test_loader = torch.utils.data.DataLoader(test_dataset,batch_size = 1,shuffle=True)\n",
    "  image = next(iter(test_loader))\n",
    "  image = image.to(device)\n",
    "  model = torch.load(model_path)\n",
    "  model.to(device)\n",
    "  output,curves = model(image)\n",
    "  output = output*255\n",
    "  output = output[0]\n",
    "\n",
    "  save_transform = transforms.Compose([\n",
    "    transforms.ToPILImage(),\n",
    "    transforms.Resize(size=256),\n",
    "    transforms.ToTensor()\n",
    "  ])\n",
    "\n",
    "  torchvision.utils.save_image(output,save_directory+image_name)\n",
    "\n",
    "for i in range(1,11):\n",
    "  eval('LIME/{}.bmp'.format(i),'/content/drive/My Drive/ZeroDCEtest/','/content/drive/My Drive/Zero-DCEModels/model_15.pth')"
   ]
  },
  {
   "cell_type": "code",
   "execution_count": 83,
   "metadata": {
    "id": "ArWcK-r0KqWh"
   },
   "outputs": [],
   "source": []
  }
 ],
 "metadata": {
  "accelerator": "GPU",
  "colab": {
   "collapsed_sections": [],
   "include_colab_link": true,
   "name": "Zero-DCE",
   "provenance": []
  },
  "kernelspec": {
   "display_name": "Python 3",
   "language": "python",
   "name": "python3"
  },
  "language_info": {
   "codemirror_mode": {
    "name": "ipython",
    "version": 3
   },
   "file_extension": ".py",
   "mimetype": "text/x-python",
   "name": "python",
   "nbconvert_exporter": "python",
   "pygments_lexer": "ipython3",
   "version": "3.6.9"
  }
 },
 "nbformat": 4,
 "nbformat_minor": 1
}
